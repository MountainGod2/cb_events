{
    "cells": [
        {
            "cell_type": "markdown",
            "metadata": {},
            "source": [
                "# Example usage\n",
                "\n",
                "To use `cb-events` in a project:"
            ]
        },
        {
            "cell_type": "code",
            "execution_count": null,
            "metadata": {},
            "outputs": [],
            "source": [
                "import asyncio\n",
                "\n",
                "from cb_events.poller import CBAPIPoller, log_events\n",
                "\n",
                "\n",
                "async def main() -> None:\n",
                "    \"\"\"Main entry point for the script.\"\"\"\n",
                "    url = \"https://eventsapi.chaturbate.com/events/USER_NAME/API_KEY/\"\n",
                "    async with CBAPIPoller(url) as poller:\n",
                "        await poller.fetch_events(event_callback=log_events)\n",
                "\n",
                "\n",
                "if __name__ == \"__main__\":\n",
                "    asyncio.run(main())\n"
            ]
        }
    ],
    "metadata": {
        "kernelspec": {
            "display_name": "Python 3",
            "language": "python",
            "name": "python3"
        },
        "language_info": {
            "codemirror_mode": {
                "name": "ipython",
                "version": 3
            },
            "file_extension": ".py",
            "mimetype": "text/x-python",
            "name": "python",
            "nbconvert_exporter": "python",
            "pygments_lexer": "ipython3",
            "version": "3.8.5"
        }
    },
    "nbformat": 4,
    "nbformat_minor": 4
}
