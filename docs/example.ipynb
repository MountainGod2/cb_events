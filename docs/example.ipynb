{
    "cells": [
        {
            "cell_type": "markdown",
            "metadata": {},
            "source": [
                "# Example usage\n",
                "\n",
                "To use `cb-events` in a project:"
            ]
        },
        {
            "cell_type": "code",
            "execution_count": 2,
            "metadata": {},
            "outputs": [
                {
                    "name": "stdout",
                    "output_type": "stream",
                    "text": [
                        "An error occurred during API polling. Verify the URL and try again.\n"
                    ]
                }
            ],
            "source": [
                "from cb_events.poller import CBAPIPoller, log_events\n",
                "\n",
                "\n",
                "async def main() -> None:\n",
                "    \"\"\"Main entry point for the script.\"\"\"\n",
                "    url = \"https://events.testbed.cb.dev/events/USER_NAME/API_KEY/\"\n",
                "    async with CBAPIPoller(url) as poller:\n",
                "        await poller.fetch_events(event_callback=log_events)\n",
                "\n",
                "\n",
                "if __name__ == \"__main__\":\n",
                "    try:\n",
                "        await main()  # noqa: PLE1142\n",
                "    except Exception as e:  # noqa: BLE001\n",
                "        print(f\"{e}\")  # noqa: T201"
            ]
        }
    ],
    "metadata": {
        "kernelspec": {
            "display_name": "Python 3",
            "language": "python",
            "name": "python3"
        },
        "language_info": {
            "codemirror_mode": {
                "name": "ipython",
                "version": 3
            },
            "file_extension": ".py",
            "mimetype": "text/x-python",
            "name": "python",
            "nbconvert_exporter": "python",
            "pygments_lexer": "ipython3",
            "version": "3.10.12"
        }
    },
    "nbformat": 4,
    "nbformat_minor": 4
}
